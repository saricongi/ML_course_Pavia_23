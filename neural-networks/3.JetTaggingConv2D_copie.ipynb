{
  "cells": [
    {
      "cell_type": "markdown",
      "metadata": {
        "id": "y7_esAc6K1Z4"
      },
      "source": [
        "# Training a Jet Tagging with **Conv2D** \n",
        "\n",
        "---\n",
        "In this notebook, we perform a Jet identification task using a Conv2D multiclass classifier.\n",
        "The problem consists in identifying a given jet as a quark, a gluon, a W, a Z, or a top,\n",
        "based on a jet image, i.e., a 2D histogram of the transverse momentum ($p_T$) deposited in each of 100x100\n",
        "bins of a square window of the ($\\eta$, $\\phi$) plane, centered along the jet axis.\n",
        "\n",
        "For details on the physics problem, see https://arxiv.org/pdf/1804.06913.pdf \n",
        "\n",
        "For details on the dataset, see Notebook1\n",
        "\n",
        "---"
      ]
    },
    {
      "cell_type": "code",
      "execution_count": 4,
      "metadata": {
        "id": "5pK5FCdMK1Z7"
      },
      "outputs": [],
      "source": [
        "import os\n",
        "import h5py\n",
        "import glob, pickle\n",
        "import numpy as np\n",
        "import matplotlib.pyplot as plt\n",
        "%matplotlib inline"
      ]
    },
    {
      "cell_type": "markdown",
      "metadata": {
        "id": "gVO0EQALK1Z8"
      },
      "source": [
        "# Preparation of the training and validation samples\n",
        "\n",
        "---\n",
        "In order to import the dataset, we now\n",
        "- clone the dataset repository (to import the data in Colab)\n",
        "- load the h5 files in the data/ repository\n",
        "- extract the data we need: a target and jetImage \n",
        "\n",
        "To type shell commands, we start the command line with !\n",
        "\n",
        "**nb, if you are running locally and you have already downloaded the datasets you can skip the cell below and, if needed, change the paths later to point to the folder with your previous download of the datasets.**"
      ]
    },
    {
      "cell_type": "code",
      "execution_count": 5,
      "metadata": {
        "id": "GlxKaXA8K1Z-",
        "colab": {
          "base_uri": "https://localhost:8080/"
        },
        "outputId": "df7d1ecb-26d4-40b9-e880-6e56b5cf5226"
      },
      "outputs": [
        {
          "output_type": "stream",
          "name": "stdout",
          "text": [
            "  % Total    % Received % Xferd  Average Speed   Time    Time     Time  Current\n",
            "                                 Dload  Upload   Total   Spent    Left  Speed\n",
            "100  333M    0  333M    0     0  16.9M      0 --:--:--  0:00:19 --:--:-- 23.3M\n",
            "Data-MLtutorial/\n",
            "Data-MLtutorial/JetDataset/\n",
            "Data-MLtutorial/JetDataset/jetImage_7_100p_0_10000.h5\n",
            "Data-MLtutorial/JetDataset/jetImage_7_100p_10000_20000.h5\n",
            "Data-MLtutorial/JetDataset/jetImage_7_100p_30000_40000.h5\n",
            "Data-MLtutorial/JetDataset/jetImage_7_100p_40000_50000.h5\n",
            "Data-MLtutorial/JetDataset/jetImage_7_100p_50000_60000.h5\n",
            "Data-MLtutorial/JetDataset/jetImage_7_100p_60000_70000.h5\n",
            "Data-MLtutorial/JetDataset/jetImage_7_100p_70000_80000.h5\n",
            "Data-MLtutorial/JetDataset/jetImage_7_100p_80000_90000.h5\n",
            "jetImage_7_100p_0_10000.h5\tjetImage_7_100p_50000_60000.h5\n",
            "jetImage_7_100p_10000_20000.h5\tjetImage_7_100p_60000_70000.h5\n",
            "jetImage_7_100p_30000_40000.h5\tjetImage_7_100p_70000_80000.h5\n",
            "jetImage_7_100p_40000_50000.h5\tjetImage_7_100p_80000_90000.h5\n"
          ]
        }
      ],
      "source": [
        "! curl https://cernbox.cern.ch/s/6Ec5pGFEpFWeH6S/download -o Data-MLtutorial.tar.gz\n",
        "! tar -xvzf Data-MLtutorial.tar.gz \n",
        "! ls Data-MLtutorial/JetDataset/\n",
        "! rm Data-MLtutorial.tar.gz "
      ]
    },
    {
      "cell_type": "code",
      "execution_count": 6,
      "metadata": {
        "id": "_Bfy4kz2K1Z_",
        "colab": {
          "base_uri": "https://localhost:8080/"
        },
        "outputId": "62122e91-328f-49f1-a8ce-96914f1702d7"
      },
      "outputs": [
        {
          "output_type": "stream",
          "name": "stdout",
          "text": [
            "Appending Data-MLtutorial/JetDataset/jetImage_7_100p_30000_40000.h5\n",
            "Appending Data-MLtutorial/JetDataset/jetImage_7_100p_60000_70000.h5\n",
            "Appending Data-MLtutorial/JetDataset/jetImage_7_100p_50000_60000.h5\n",
            "Appending Data-MLtutorial/JetDataset/jetImage_7_100p_10000_20000.h5\n",
            "Appending Data-MLtutorial/JetDataset/jetImage_7_100p_0_10000.h5\n",
            "(50000, 5) (50000, 100, 100)\n"
          ]
        }
      ],
      "source": [
        "target = np.array([])\n",
        "jetImage = np.array([])\n",
        "# we cannot load all data on Colab. So we just take a few files\n",
        "datafiles = ['Data-MLtutorial/JetDataset/jetImage_7_100p_30000_40000.h5',\n",
        "             'Data-MLtutorial/JetDataset/jetImage_7_100p_60000_70000.h5',\n",
        "             'Data-MLtutorial/JetDataset/jetImage_7_100p_50000_60000.h5',\n",
        "             'Data-MLtutorial/JetDataset/jetImage_7_100p_10000_20000.h5',\n",
        "             'Data-MLtutorial/JetDataset/jetImage_7_100p_0_10000.h5']\n",
        "# if you are running locally, you can use the full dataset doing\n",
        "# for fileIN in glob.glob(\"tutorials/HiggsSchool/data/*h5\"):\n",
        "for fileIN in datafiles:\n",
        "    print(\"Appending %s\" %fileIN)\n",
        "    f = h5py.File(fileIN)\n",
        "    myjetImage = np.array(f.get(\"jetImage\"))\n",
        "    mytarget = np.array(f.get('jets')[0:,-6:-1])\n",
        "    jetImage = np.concatenate([jetImage, myjetImage], axis=0) if jetImage.size else myjetImage\n",
        "    target = np.concatenate([target, mytarget], axis=0) if target.size else mytarget\n",
        "    f.close()\n",
        "print(target.shape, jetImage.shape)"
      ]
    },
    {
      "cell_type": "markdown",
      "metadata": {
        "id": "QTuZKlYlK1aA"
      },
      "source": [
        "The dataset consists of 50000 with up to 100 particles in each jet. These 100 particles have been used to fill the 100x100 jet images.\n",
        "\n",
        "---\n",
        "\n",
        "We now shuffle the data, splitting them into a training and a validation dataset with 2:1 ratio"
      ]
    },
    {
      "cell_type": "code",
      "execution_count": 7,
      "metadata": {
        "id": "MZenCl_lK1aC",
        "colab": {
          "base_uri": "https://localhost:8080/"
        },
        "outputId": "ec273040-5403-4d3f-ebf3-38b3f2c88990"
      },
      "outputs": [
        {
          "output_type": "stream",
          "name": "stdout",
          "text": [
            "(33500, 100, 100) (16500, 100, 100) (33500, 5) (16500, 5)\n"
          ]
        }
      ],
      "source": [
        "from sklearn.model_selection import train_test_split\n",
        "X_train, X_val, y_train, y_val = train_test_split(jetImage, target, test_size=0.33)\n",
        "print(X_train.shape, X_val.shape, y_train.shape, y_val.shape)\n",
        "del jetImage, target"
      ]
    },
    {
      "cell_type": "markdown",
      "metadata": {
        "id": "NRONFD2bK1aD"
      },
      "source": [
        "In keras, images are representable as $n \\times m \\times k$ tensors, where $n \\times m$ are the pixel dimenions and $k$ is the number of channels (e.g., 1 in a black\\&while image, 3 for an RGB image). In our case, k=1. To comply to this, we add the channel index by reshaping the image dataset.\n",
        "\n",
        "Each pixel as a number in it, the 'color', so we have a 3D sample... But tensor flow does not interpretate like this, so we have to re-chape it. "
      ]
    },
    {
      "cell_type": "code",
      "execution_count": 8,
      "metadata": {
        "id": "JwzpamYuK1aE",
        "colab": {
          "base_uri": "https://localhost:8080/"
        },
        "outputId": "58cde069-2e46-4e0f-d539-33bd3e617211"
      },
      "outputs": [
        {
          "output_type": "stream",
          "name": "stdout",
          "text": [
            "(33500, 100, 100, 1) (16500, 100, 100, 1) (33500, 5) (16500, 5)\n"
          ]
        }
      ],
      "source": [
        "X_train = X_train.reshape((X_train.shape[0], X_train.shape[1], X_train.shape[2], 1))\n",
        "X_val = X_val.reshape((X_val.shape[0], X_val.shape[1], X_val.shape[2], 1))\n",
        "print(X_train.shape, X_val.shape, y_train.shape, y_val.shape)"
      ]
    },
    {
      "cell_type": "markdown",
      "metadata": {
        "id": "-Cj7HnaAK1aF"
      },
      "source": [
        "# Conv 2D model building\n",
        "\n",
        "The main ingredients of a Conv2D layer are:\n",
        "\n",
        "- **filter**: a *k x k’* matrix of weights (orange matrix in the picture below) that scans the image and performs a scalar product of each image block (this is also called *kernel*)\n",
        "- **stride**: number of pixels the filter is shifted by (=1 in the image below)\n",
        "- **padding**: the amount of pixels added to an image when it is being processed by the filter of a CNN (helps keeping information on the boundaries of the original image by allowing border pixels to be at the center of the filter)\n",
        "    - *valid* means no padding (default setting)\n",
        "    - *same* results in padding with zeros evenly to the left/right or up/down of the input image as needed to ensure that the output has the same shape as the input\n",
        "\n",
        "<div>\n",
        "<img src=\"https://raw.githubusercontent.com/jngadiub/ML_course_Pavia_23/main/neural-networks/conv2d.gif\" width=\"400\"/>\n",
        "</div>\n",
        "\n",
        "It is common practice to insert **pooling** layers in between Conv2D layers to progressively reduce the size of the representation and thus reduce the amount of parameters and computation in the network. Pooling also makes processing more robust to changes in the position of a feature in the image. Common types of pooling operations are:\n",
        "\n",
        "- **MaxPooling**: given an image and a pool of size *k x k’*, scans the image and replaces each *k x k’* patch with its *maximum* -- helps to extract the sharpest features on the image when the sharpest features are a best lower-level representation of the image\n",
        "- **AveragePooling**: given an image and a pool of size *k x k’*, scans the image and replaces each *k x k’* patch with its *average* -- helps to extract the smooth features when \"colours\" transition is smooth\n",
        "\n",
        "<img src=\"https://github.com/jngadiub/ML_course_Pavia_23/blob/main/neural-networks/figures/pooling.png?raw=1\" alt=\"Drawing\" style=\"width: 800px;\"/>"
      ]
    },
    {
      "cell_type": "code",
      "execution_count": 9,
      "metadata": {
        "id": "RaUzTTuYK1aG"
      },
      "outputs": [],
      "source": [
        "# keras imports\n",
        "from tensorflow.keras.models import Model, model_from_json\n",
        "from tensorflow.keras.layers import Dense, Input, Conv2D, Dropout, Flatten\n",
        "from tensorflow.keras.layers import MaxPooling2D, BatchNormalization, Activation\n",
        "from tensorflow.keras.utils import plot_model\n",
        "from tensorflow.keras import backend as K\n",
        "from tensorflow.keras import metrics\n",
        "from tensorflow.keras.callbacks import EarlyStopping, ReduceLROnPlateau, TerminateOnNaN"
      ]
    },
    {
      "cell_type": "code",
      "execution_count": 10,
      "metadata": {
        "id": "evIemCVrK1aH"
      },
      "outputs": [],
      "source": [
        "img_rows = X_train.shape[1]\n",
        "img_cols = X_train.shape[2]\n",
        "dropoutRate = 0.25"
      ]
    },
    {
      "cell_type": "code",
      "execution_count": 11,
      "metadata": {
        "id": "xjQH0sMuK1aI"
      },
      "outputs": [],
      "source": [
        "image_shape = (img_rows, img_cols, 1)\n",
        "####\n",
        "inputImage = Input(shape=(image_shape))\n",
        "x = Conv2D(5, kernel_size=(5,5), data_format=\"channels_last\", strides=(1, 1), padding=\"same\")(inputImage)\n",
        "# 5 = nb of filters, strides (1,1) means that in all direction we stride\n",
        "x = BatchNormalization()(x) #you normalize everything to the same shape\n",
        "x = Activation('relu')(x)\n",
        "x = MaxPooling2D( pool_size = (5,5))(x) #when you don't specify the stride, it does it in the full dimensions\n",
        "x = Dropout(dropoutRate)(x) #dropout randomly choose a nb of parameters to be zero to prevent overfitting\n",
        "#\n",
        "x = Conv2D(3, kernel_size=(3,3), data_format=\"channels_last\", strides=(1, 1), padding=\"same\")(x)\n",
        "x = BatchNormalization()(x)\n",
        "x = Activation('relu')(x)\n",
        "x = MaxPooling2D( pool_size = (3,3))(x)\n",
        "x = Dropout(dropoutRate)(x)\n",
        "#\n",
        "x = Flatten()(x)\n",
        "#\n",
        "x = Dense(5, activation='relu')(x)\n",
        "#\n",
        "output = Dense(5, activation='softmax')(x)\n",
        "####\n",
        "model = Model(inputs=inputImage, outputs=output)"
      ]
    },
    {
      "cell_type": "code",
      "execution_count": 12,
      "metadata": {
        "id": "hXVPnzcTK1aI",
        "colab": {
          "base_uri": "https://localhost:8080/"
        },
        "outputId": "21d34e91-b682-46e9-d03e-5f4dbbc3633d"
      },
      "outputs": [
        {
          "output_type": "stream",
          "name": "stdout",
          "text": [
            "Model: \"model\"\n",
            "_________________________________________________________________\n",
            " Layer (type)                Output Shape              Param #   \n",
            "=================================================================\n",
            " input_1 (InputLayer)        [(None, 100, 100, 1)]     0         \n",
            "                                                                 \n",
            " conv2d (Conv2D)             (None, 100, 100, 5)       130       \n",
            "                                                                 \n",
            " batch_normalization (BatchN  (None, 100, 100, 5)      20        \n",
            " ormalization)                                                   \n",
            "                                                                 \n",
            " activation (Activation)     (None, 100, 100, 5)       0         \n",
            "                                                                 \n",
            " max_pooling2d (MaxPooling2D  (None, 20, 20, 5)        0         \n",
            " )                                                               \n",
            "                                                                 \n",
            " dropout (Dropout)           (None, 20, 20, 5)         0         \n",
            "                                                                 \n",
            " conv2d_1 (Conv2D)           (None, 20, 20, 3)         138       \n",
            "                                                                 \n",
            " batch_normalization_1 (Batc  (None, 20, 20, 3)        12        \n",
            " hNormalization)                                                 \n",
            "                                                                 \n",
            " activation_1 (Activation)   (None, 20, 20, 3)         0         \n",
            "                                                                 \n",
            " max_pooling2d_1 (MaxPooling  (None, 6, 6, 3)          0         \n",
            " 2D)                                                             \n",
            "                                                                 \n",
            " dropout_1 (Dropout)         (None, 6, 6, 3)           0         \n",
            "                                                                 \n",
            " flatten (Flatten)           (None, 108)               0         \n",
            "                                                                 \n",
            " dense (Dense)               (None, 5)                 545       \n",
            "                                                                 \n",
            " dense_1 (Dense)             (None, 5)                 30        \n",
            "                                                                 \n",
            "=================================================================\n",
            "Total params: 875\n",
            "Trainable params: 859\n",
            "Non-trainable params: 16\n",
            "_________________________________________________________________\n"
          ]
        }
      ],
      "source": [
        "model.compile(loss='categorical_crossentropy', optimizer='adam')\n",
        "model.summary()"
      ]
    },
    {
      "cell_type": "markdown",
      "metadata": {
        "id": "5leMyRciK1aJ"
      },
      "source": [
        "We now train the model. This takes really long time and processing power on common CPUs. **If you are running locally set TRAIN=False** such that a pre-trained model is loaded for the next evaluation steps. We live as homework to reproduce the results (suggest to use Colab with GPU)."
      ]
    },
    {
      "cell_type": "code",
      "execution_count": 20,
      "metadata": {
        "id": "aj_vANK5K1aK",
        "colab": {
          "base_uri": "https://localhost:8080/"
        },
        "outputId": "15fce0fc-2419-4bd3-85c1-d6d835afa7e0"
      },
      "outputs": [
        {
          "output_type": "stream",
          "name": "stdout",
          "text": [
            "  % Total    % Received % Xferd  Average Speed   Time    Time     Time  Current\n",
            "                                 Dload  Upload   Total   Spent    Left  Speed\n",
            "100   169  100   169    0     0    225      0 --:--:-- --:--:-- --:--:--   224\n",
            "\n",
            "gzip: stdin: not in gzip format\n",
            "tar: Child returned status 1\n",
            "tar: Error is not recoverable: exiting now\n",
            "history.h5  jetTagger_CNN.h5  jetTagger_CNN.json\n"
          ]
        }
      ],
      "source": [
        "TRAIN = False\n",
        "batch_size = 128\n",
        "n_epochs = 1 #max\n",
        "\n",
        "if TRAIN: #train and save the model\n",
        "    \n",
        "    history = model.fit(X_train, y_train, epochs=n_epochs, batch_size=batch_size, verbose = 2,\n",
        "                        validation_data=(X_val, y_val),\n",
        "                        callbacks = [\n",
        "                        EarlyStopping(monitor='val_loss', patience=10, verbose=1),\n",
        "                        ReduceLROnPlateau(monitor='val_loss', factor=0.1, patience=2, verbose=1),\n",
        "                        TerminateOnNaN()])\n",
        "\n",
        "    model_json = model.to_json()\n",
        "    !mkdir jetTagger_CNN\n",
        "    outputdir = './jetTagger_CNN/'\n",
        "    # to avoid to train each time, you save it in a Jason format, and than you put train to Faulse, it contains the architecture (nb filters, the optimizer..)\n",
        "\n",
        "    with open(\"{OUTPUTDIR}/jetTagger_CNN.json\".format(OUTPUTDIR=outputdir), \"w\") as json_file:\n",
        "        json_file.write(model_json)\n",
        "    model.save_weights(\"{OUTPUTDIR}/jetTagger_CNN.h5\".format(OUTPUTDIR=outputdir))\n",
        "    #then , you have also to save the weights, in another file\n",
        "\n",
        "    with open('{OUTPUTDIR}/history.h5'.format(OUTPUTDIR=outputdir), 'wb') as f:\n",
        "      pickle.dump(history.history, f, protocol=pickle.HIGHEST_PROTOCOL)    \n",
        "    \n",
        "else: #load pretrained model\n",
        "    \n",
        "    ! curl https://cernbox.cern.ch/index.php/s/yYUgxxSnYN42qay/download -o jetTagger_CNN.tar.gz\n",
        "    ! tar -xvzf jetTagger_CNN.tar.gz \n",
        "    ! ls jetTagger_CNN/\n",
        "    ! rm jetTagger_CNN.tar.gz\n",
        "    \n",
        "    with open('jetTagger_CNN/jetTagger_CNN.json', 'r') as json_file:\n",
        "        model_json = json_file.read()\n",
        "    model = model_from_json(model_json)\n",
        "    model.load_weights(\"jetTagger_CNN/jetTagger_CNN.h5\")\n",
        "    \n",
        "    with open('jetTagger_CNN/history.h5', 'rb') as f: history = pickle.load(f)"
      ]
    },
    {
      "cell_type": "code",
      "execution_count": 21,
      "metadata": {
        "id": "z7E3JsM_K1aK",
        "colab": {
          "base_uri": "https://localhost:8080/",
          "height": 472
        },
        "outputId": "f6c7b4e0-70be-496d-cfbc-755293e37ba1"
      },
      "outputs": [
        {
          "output_type": "display_data",
          "data": {
            "text/plain": [
              "<Figure size 640x480 with 1 Axes>"
            ],
            "image/png": "[encoded data removed]"
          },
          "metadata": {}
        }
      ],
      "source": [
        "# plot training history\n",
        "import pandas as pd\n",
        "if TRAIN: history = pd.DataFrame(history.history)\n",
        "plt.plot(history['loss'])\n",
        "plt.plot(history['val_loss'])\n",
        "plt.yscale('log')\n",
        "plt.title('Training History')\n",
        "plt.ylabel('loss')\n",
        "plt.xlabel('epoch')\n",
        "plt.legend(['training', 'validation'], loc='upper right')\n",
        "plt.show()"
      ]
    },
    {
      "cell_type": "markdown",
      "metadata": {
        "id": "FVNnL-1QK1aM"
      },
      "source": [
        "# Building the ROC Curves"
      ]
    },
    {
      "cell_type": "code",
      "execution_count": 16,
      "metadata": {
        "id": "FWbtbTrPK1aM"
      },
      "outputs": [],
      "source": [
        "labels = ['gluon', 'quark', 'W', 'Z', 'top']"
      ]
    },
    {
      "cell_type": "code",
      "execution_count": 17,
      "metadata": {
        "id": "N33vdzeQK1aM",
        "colab": {
          "base_uri": "https://localhost:8080/",
          "height": 475
        },
        "outputId": "2f81a181-54a5-4614-f271-9e3008cc8f88"
      },
      "outputs": [
        {
          "output_type": "stream",
          "name": "stdout",
          "text": [
            "516/516 [==============================] - 2s 4ms/step\n"
          ]
        },
        {
          "output_type": "display_data",
          "data": {
            "text/plain": [
              "<Figure size 640x480 with 1 Axes>"
            ],
            "image/png": "[encoded data removed]"
          },
          "metadata": {}
        }
      ],
      "source": [
        "from sklearn.metrics import roc_curve, auc\n",
        "predict_val = model.predict(X_val)\n",
        "df = pd.DataFrame()\n",
        "fpr = {}\n",
        "tpr = {}\n",
        "auc1 = {}\n",
        "\n",
        "plt.figure()\n",
        "for i, label in enumerate(labels):\n",
        "        df[label] = y_val[:,i]\n",
        "        df[label + '_pred'] = predict_val[:,i]\n",
        "\n",
        "        fpr[label], tpr[label], threshold = roc_curve(df[label],df[label+'_pred'])\n",
        "\n",
        "        auc1[label] = auc(fpr[label], tpr[label])\n",
        "\n",
        "        plt.plot(tpr[label],fpr[label],label='%s tagger, auc = %.1f%%'%(label,auc1[label]*100.))\n",
        "plt.semilogy()\n",
        "plt.xlabel(\"sig. efficiency\")\n",
        "plt.ylabel(\"bkg. mistag rate\")\n",
        "plt.ylim(0.000001,1)\n",
        "plt.grid(True)\n",
        "plt.legend(loc='lower right')\n",
        "plt.show()"
      ]
    },
    {
      "cell_type": "code",
      "execution_count": null,
      "metadata": {
        "id": "w4zyw_ExK1aN"
      },
      "outputs": [],
      "source": []
    }
  ],
  "metadata": {
    "kernelspec": {
      "display_name": "Python 3 (ipykernel)",
      "language": "python",
      "name": "python3"
    },
    "language_info": {
      "codemirror_mode": {
        "name": "ipython",
        "version": 3
      },
      "file_extension": ".py",
      "mimetype": "text/x-python",
      "name": "python",
      "nbconvert_exporter": "python",
      "pygments_lexer": "ipython3",
      "version": "3.9.12"
    },
    "colab": {
      "provenance": [],
      "gpuType": "T4"
    },
    "accelerator": "GPU",
    "gpuClass": "standard"
  },
  "nbformat": 4,
  "nbformat_minor": 0
}