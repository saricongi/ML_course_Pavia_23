{
  "cells": [
    {
      "cell_type": "markdown",
      "metadata": {
        "id": "hcLZFVm6vwPU"
      },
      "source": [
        "# Training a Jet Tagging with **Recurrent Neural Network** \n",
        "\n",
        "---\n",
        "In this notebook, we perform a Jet identification task using a multiclass classifier with a GRU unit.\n",
        "Gated Recurrent Units are one kind of RNNs. \n",
        "\n",
        "The problem consists in identifying a given jet as a quark, a gluon, a W, a Z, or a top,\n",
        "based on a jet image, i.e., a 2D histogram of the transverse momentum ($p_T$) deposited in each of 100x100\n",
        "bins of a square window of the ($\\eta$, $\\phi$) plane, centered along the jet axis.\n",
        "\n",
        "For details on the physics problem, see https://arxiv.org/pdf/1804.06913.pdf \n",
        "\n",
        "For details on the dataset, see Notebook1\n",
        "\n",
        "---"
      ]
    },
    {
      "cell_type": "code",
      "execution_count": 4,
      "metadata": {
        "id": "6I16-TiHvwPY"
      },
      "outputs": [],
      "source": [
        "import os\n",
        "import h5py\n",
        "import glob\n",
        "import numpy as np\n",
        "import matplotlib.pyplot as plt\n",
        "%matplotlib inline"
      ]
    },
    {
      "cell_type": "markdown",
      "metadata": {
        "id": "r3qbqSWivwPZ"
      },
      "source": [
        "# Preparation of the training and validation samples\n",
        "\n",
        "---\n",
        "In order to import the dataset, we now\n",
        "- clone the dataset repository (to import the data in Colab)\n",
        "- load the h5 files in the data/ repository\n",
        "- extract the data we need: a target and jetImage \n",
        "\n",
        "To type shell commands, we start the command line with !\n",
        "\n",
        "nb, if you are running locally you can skip the step below and change the paths later to point to the folder with your previous download of the datasets."
      ]
    },
    {
      "cell_type": "code",
      "execution_count": 5,
      "metadata": {
        "id": "t_t9MpbCvwPZ",
        "outputId": "f16ed1d2-6141-4046-e93a-3aad88fa46de",
        "colab": {
          "base_uri": "https://localhost:8080/"
        }
      },
      "outputs": [
        {
          "output_type": "stream",
          "name": "stdout",
          "text": [
            "  % Total    % Received % Xferd  Average Speed   Time    Time     Time  Current\n",
            "                                 Dload  Upload   Total   Spent    Left  Speed\n",
            "100  333M    0  333M    0     0  15.5M      0 --:--:--  0:00:21 --:--:-- 18.9M\n",
            "Data-MLtutorial/\n",
            "Data-MLtutorial/JetDataset/\n",
            "Data-MLtutorial/JetDataset/jetImage_7_100p_0_10000.h5\n",
            "Data-MLtutorial/JetDataset/jetImage_7_100p_10000_20000.h5\n",
            "Data-MLtutorial/JetDataset/jetImage_7_100p_30000_40000.h5\n",
            "Data-MLtutorial/JetDataset/jetImage_7_100p_40000_50000.h5\n",
            "Data-MLtutorial/JetDataset/jetImage_7_100p_50000_60000.h5\n",
            "Data-MLtutorial/JetDataset/jetImage_7_100p_60000_70000.h5\n",
            "Data-MLtutorial/JetDataset/jetImage_7_100p_70000_80000.h5\n",
            "Data-MLtutorial/JetDataset/jetImage_7_100p_80000_90000.h5\n",
            "jetImage_7_100p_0_10000.h5\tjetImage_7_100p_50000_60000.h5\n",
            "jetImage_7_100p_10000_20000.h5\tjetImage_7_100p_60000_70000.h5\n",
            "jetImage_7_100p_30000_40000.h5\tjetImage_7_100p_70000_80000.h5\n",
            "jetImage_7_100p_40000_50000.h5\tjetImage_7_100p_80000_90000.h5\n"
          ]
        }
      ],
      "source": [
        "! curl https://cernbox.cern.ch/s/6Ec5pGFEpFWeH6S/download -o Data-MLtutorial.tar.gz\n",
        "! tar -xvzf Data-MLtutorial.tar.gz \n",
        "! ls Data-MLtutorial/JetDataset/\n",
        "! rm Data-MLtutorial.tar.gz "
      ]
    },
    {
      "cell_type": "code",
      "execution_count": 20,
      "metadata": {
        "id": "OACvQBdEvwPa",
        "outputId": "6ca892cb-93e2-43e6-f008-c1f949bc10d2",
        "colab": {
          "base_uri": "https://localhost:8080/"
        }
      },
      "outputs": [
        {
          "output_type": "stream",
          "name": "stdout",
          "text": [
            "Appending Data-MLtutorial/JetDataset/jetImage_7_100p_30000_40000.h5\n",
            "Appending Data-MLtutorial/JetDataset/jetImage_7_100p_60000_70000.h5\n",
            "Appending Data-MLtutorial/JetDataset/jetImage_7_100p_50000_60000.h5\n",
            "Appending Data-MLtutorial/JetDataset/jetImage_7_100p_10000_20000.h5\n",
            "Appending Data-MLtutorial/JetDataset/jetImage_7_100p_0_10000.h5\n",
            "(50000, 5) (50000, 100, 16)\n"
          ]
        }
      ],
      "source": [
        "target = np.array([])\n",
        "jetList = np.array([])\n",
        "# we cannot load all data on Colab. So we just take a few files\n",
        "datafiles = ['Data-MLtutorial/JetDataset/jetImage_7_100p_30000_40000.h5',\n",
        "             'Data-MLtutorial/JetDataset/jetImage_7_100p_60000_70000.h5',\n",
        "             'Data-MLtutorial/JetDataset/jetImage_7_100p_50000_60000.h5',\n",
        "             'Data-MLtutorial/JetDataset/jetImage_7_100p_10000_20000.h5',\n",
        "             'Data-MLtutorial/JetDataset/jetImage_7_100p_0_10000.h5']\n",
        "# if you are running locallt, you can use the full dataset doing\n",
        "# for fileIN in glob.glob(\"tutorials/HiggsSchool/data/*h5\"):\n",
        "for fileIN in datafiles:\n",
        "    print(\"Appending %s\" %fileIN)\n",
        "    f = h5py.File(fileIN)\n",
        "    myJetList = np.array(f.get(\"jetConstituentList\"))\n",
        "    mytarget = np.array(f.get('jets')[0:,-6:-1])\n",
        "    jetList = np.concatenate([jetList, myJetList], axis=0) if jetList.size else myJetList\n",
        "    target = np.concatenate([target, mytarget], axis=0) if target.size else mytarget\n",
        "    del myJetList, mytarget\n",
        "    f.close()\n",
        "print(target.shape, jetList.shape)"
      ]
    },
    {
      "cell_type": "code",
      "source": [
        "#normalizing to improve the efficiency\n",
        "\n",
        "print(\"*jetList*\")\n",
        "print(jetList)\n",
        "print(\"**********\")\n",
        "\n",
        "print(\"*Normalized jetList*\")\n",
        "jetList = jetList.reshape(50000*100, 16)\n",
        "print(jetList)\n",
        "print(\"**********\")\n",
        "\n",
        "plt.hist(jetList[:,4])\n",
        "print(jetList.shape)"
      ],
      "metadata": {
        "id": "rhdweY3ZGxAj",
        "outputId": "d08d2e04-0402-4b28-9ad6-eaa7e0655ded",
        "colab": {
          "base_uri": "https://localhost:8080/",
          "height": 1000
        }
      },
      "execution_count": 30,
      "outputs": [
        {
          "output_type": "stream",
          "name": "stdout",
          "text": [
            "*jetList*\n",
            "[[ 1.58757828e+02  6.20679398e+01  4.26207962e+01 ...  4.97238711e-02\n",
            "   2.42567196e-01  6.12323426e-17]\n",
            " [ 1.27314148e+02  5.00007515e+01  3.38473091e+01 ...  4.70003374e-02\n",
            "   2.40211338e-01 -9.76750278e-04]\n",
            " [ 7.92414322e+01  3.14465923e+01  2.09029751e+01 ...  4.28280123e-02\n",
            "   2.38133788e-01 -4.53256536e-04]\n",
            " ...\n",
            " [ 0.00000000e+00  0.00000000e+00  0.00000000e+00 ...  0.00000000e+00\n",
            "   0.00000000e+00  0.00000000e+00]\n",
            " [ 0.00000000e+00  0.00000000e+00  0.00000000e+00 ...  0.00000000e+00\n",
            "   0.00000000e+00  0.00000000e+00]\n",
            " [ 0.00000000e+00  0.00000000e+00  0.00000000e+00 ...  0.00000000e+00\n",
            "   0.00000000e+00  0.00000000e+00]]\n",
            "**********\n",
            "*Normalized jetList*\n",
            "[[ 1.58757828e+02  6.20679398e+01  4.26207962e+01 ...  4.97238711e-02\n",
            "   2.42567196e-01  6.12323426e-17]\n",
            " [ 1.27314148e+02  5.00007515e+01  3.38473091e+01 ...  4.70003374e-02\n",
            "   2.40211338e-01 -9.76750278e-04]\n",
            " [ 7.92414322e+01  3.14465923e+01  2.09029751e+01 ...  4.28280123e-02\n",
            "   2.38133788e-01 -4.53256536e-04]\n",
            " ...\n",
            " [ 0.00000000e+00  0.00000000e+00  0.00000000e+00 ...  0.00000000e+00\n",
            "   0.00000000e+00  0.00000000e+00]\n",
            " [ 0.00000000e+00  0.00000000e+00  0.00000000e+00 ...  0.00000000e+00\n",
            "   0.00000000e+00  0.00000000e+00]\n",
            " [ 0.00000000e+00  0.00000000e+00  0.00000000e+00 ...  0.00000000e+00\n",
            "   0.00000000e+00  0.00000000e+00]]\n",
            "**********\n",
            "(5000000, 16)\n"
          ]
        },
        {
          "output_type": "display_data",
          "data": {
            "text/plain": [
              "<Figure size 640x480 with 1 Axes>"
            ],
            "image/png": "[encoded data removed]"
          },
          "metadata": {}
        }
      ]
    },
    {
      "cell_type": "markdown",
      "metadata": {
        "id": "qeLNskjhvwPa"
      },
      "source": [
        "The dataset consists of 50000 with up to 100 particles in each jet. These 100 particles have been used to fill the 100x100 jet images.\n",
        "\n",
        "---\n",
        "\n",
        "We now shuffle the data, splitting them into a training and a validation dataset with 2:1 ratio"
      ]
    },
    {
      "cell_type": "code",
      "execution_count": 7,
      "metadata": {
        "id": "X38B9RUEvwPa",
        "outputId": "cd349bae-c5f6-48d8-c27f-9f065c9b3638",
        "colab": {
          "base_uri": "https://localhost:8080/"
        }
      },
      "outputs": [
        {
          "output_type": "stream",
          "name": "stdout",
          "text": [
            "(33500, 100, 16) (16500, 100, 16) (33500, 5) (16500, 5)\n"
          ]
        }
      ],
      "source": [
        "from sklearn.model_selection import train_test_split\n",
        "X_train, X_val, y_train, y_val = train_test_split(jetList, target, test_size=0.33)\n",
        "print(X_train.shape, X_val.shape, y_train.shape, y_val.shape)\n",
        "del jetList, target\n",
        "#sequence up to 100 particles, internally it takes only the particles that are not 0"
      ]
    },
    {
      "cell_type": "markdown",
      "metadata": {
        "id": "HslK-i_2vwPb"
      },
      "source": [
        "# Building the RNN model\n",
        "\n",
        "A recurrent neural network (RNN) is a type of NN which processes sequential data or time series data. They are commonly used for ordinal or temporal problems, such as natural language processing (NLP). They are distinguished by their “memory” as they take information from prior inputs to influence the current input and output.\n",
        "\n",
        "<img src=\"https://github.com/saricongi/ML_course_Pavia_23/blob/main_v2/neural-networks/figures/rnn1.png?raw=1\" alt=\"Drawing\" style=\"width: 600px;\"/>\n",
        "\n",
        "In this notebook we treat the particles clustered by the jet algorithm as an ordered sequence processed through a type of RNN called [Gated Recurrent Units](https://towardsdatascience.com/understanding-gru-networks-2ef37df6c9be). GRUs are improved version of standard RNN that solves the solves the vanishing gradient problem. The update and reset gates decide what information should be passed to the output making the model able to keep information from long ago, without washing it through time or remove information which is irrelevant to the prediction. The main ingredients are:\n",
        "\n",
        "- number of hidden units: the size of the hidden state *ht*\n",
        "- gates activation function (typically a sigmoid between 0 and 1 to either let no flow or complete flow of information throughout the gates). \n",
        "- current state activation function (typically a tanh between -1 and 1 to allow for increases and decreases in the state)"
      ]
    },
    {
      "cell_type": "code",
      "execution_count": 10,
      "metadata": {
        "id": "_zfipYTAvwPb"
      },
      "outputs": [],
      "source": [
        "# keras imports\n",
        "from tensorflow.keras.models import Model\n",
        "from tensorflow.keras.layers import Dense, Input, GRU, Dropout, Masking\n",
        "#GRU are more computational efficient, the input is the hidden state\n",
        "from tensorflow.keras.utils import plot_model\n",
        "from tensorflow.keras import backend as K\n",
        "from tensorflow.keras import metrics\n",
        "from tensorflow.keras.callbacks import EarlyStopping, ReduceLROnPlateau, TerminateOnNaN"
      ]
    },
    {
      "cell_type": "code",
      "execution_count": 11,
      "metadata": {
        "id": "V-Z8F5TqvwPc"
      },
      "outputs": [],
      "source": [
        "featureArrayLength = (X_train.shape[1],X_train.shape[2])\n",
        "dropoutRate = 0.25"
      ]
    },
    {
      "cell_type": "code",
      "execution_count": 12,
      "metadata": {
        "id": "a0ib9okAvwPc"
      },
      "outputs": [],
      "source": [
        "####\n",
        "inputList = Input(shape=(featureArrayLength))\n",
        "x = Masking( mask_value = 0.0)(inputList)\n",
        "# masking is inportant, it forgets the element in the inputList that are 0 -> you do the training adapting the length of the array, this is the power of RNN!\n",
        "x = GRU(units=40, activation=\"tanh\", recurrent_activation='sigmoid')(inputList)\n",
        "#only one line of code, 40 = nb of units\n",
        "x = Dropout(dropoutRate)(x)\n",
        "#\n",
        "x = Dense(20, activation='relu')(x)\n",
        "x = Dropout(dropoutRate)(x)\n",
        "#\n",
        "x = Dense(10, activation='relu')(x)\n",
        "x = Dropout(dropoutRate)(x)\n",
        "x = Dense(5, activation='relu')(x)\n",
        "#\n",
        "output = Dense(5, activation='softmax')(x)\n",
        "####\n",
        "model = Model(inputs=inputList, outputs=output)"
      ]
    },
    {
      "cell_type": "code",
      "execution_count": 13,
      "metadata": {
        "id": "Om5agn4SvwPc",
        "outputId": "95dd3656-aca1-4361-df63-082f7e8c7fec",
        "colab": {
          "base_uri": "https://localhost:8080/"
        }
      },
      "outputs": [
        {
          "output_type": "stream",
          "name": "stdout",
          "text": [
            "Model: \"model\"\n",
            "_________________________________________________________________\n",
            " Layer (type)                Output Shape              Param #   \n",
            "=================================================================\n",
            " input_1 (InputLayer)        [(None, 100, 16)]         0         \n",
            "                                                                 \n",
            " gru (GRU)                   (None, 40)                6960      \n",
            "                                                                 \n",
            " dropout (Dropout)           (None, 40)                0         \n",
            "                                                                 \n",
            " dense (Dense)               (None, 20)                820       \n",
            "                                                                 \n",
            " dropout_1 (Dropout)         (None, 20)                0         \n",
            "                                                                 \n",
            " dense_1 (Dense)             (None, 10)                210       \n",
            "                                                                 \n",
            " dropout_2 (Dropout)         (None, 10)                0         \n",
            "                                                                 \n",
            " dense_2 (Dense)             (None, 5)                 55        \n",
            "                                                                 \n",
            " dense_3 (Dense)             (None, 5)                 30        \n",
            "                                                                 \n",
            "=================================================================\n",
            "Total params: 8,075\n",
            "Trainable params: 8,075\n",
            "Non-trainable params: 0\n",
            "_________________________________________________________________\n"
          ]
        }
      ],
      "source": [
        "model.compile(loss='categorical_crossentropy', optimizer='adam')\n",
        "model.summary()"
      ]
    },
    {
      "cell_type": "markdown",
      "metadata": {
        "id": "rH4XVMhXvwPd"
      },
      "source": [
        "We now train the model"
      ]
    },
    {
      "cell_type": "code",
      "execution_count": 14,
      "metadata": {
        "id": "AFvZ12F3vwPd"
      },
      "outputs": [],
      "source": [
        "batch_size = 128\n",
        "n_epochs = 200"
      ]
    },
    {
      "cell_type": "code",
      "execution_count": 15,
      "metadata": {
        "id": "ry2ScHGnvwPd",
        "outputId": "d2a0046d-c81a-4336-d38a-de37eeed5f0e",
        "colab": {
          "base_uri": "https://localhost:8080/"
        }
      },
      "outputs": [
        {
          "output_type": "stream",
          "name": "stdout",
          "text": [
            "Epoch 1/200\n",
            "262/262 - 12s - loss: 1.5573 - val_loss: 1.4380 - lr: 0.0010 - 12s/epoch - 46ms/step\n",
            "Epoch 2/200\n",
            "262/262 - 2s - loss: 1.4182 - val_loss: 1.3539 - lr: 0.0010 - 2s/epoch - 9ms/step\n",
            "Epoch 3/200\n",
            "262/262 - 3s - loss: 1.3895 - val_loss: 1.3472 - lr: 0.0010 - 3s/epoch - 11ms/step\n",
            "Epoch 4/200\n",
            "262/262 - 3s - loss: 1.3755 - val_loss: 1.3386 - lr: 0.0010 - 3s/epoch - 12ms/step\n",
            "Epoch 5/200\n",
            "262/262 - 3s - loss: 1.3624 - val_loss: 1.3167 - lr: 0.0010 - 3s/epoch - 11ms/step\n",
            "Epoch 6/200\n",
            "262/262 - 3s - loss: 1.3476 - val_loss: 1.3069 - lr: 0.0010 - 3s/epoch - 10ms/step\n",
            "Epoch 7/200\n",
            "262/262 - 3s - loss: 1.3317 - val_loss: 1.2890 - lr: 0.0010 - 3s/epoch - 12ms/step\n",
            "Epoch 8/200\n",
            "262/262 - 3s - loss: 1.3198 - val_loss: 1.2991 - lr: 0.0010 - 3s/epoch - 10ms/step\n",
            "Epoch 9/200\n",
            "\n",
            "Epoch 9: ReduceLROnPlateau reducing learning rate to 0.00010000000474974513.\n",
            "262/262 - 3s - loss: 1.3129 - val_loss: 1.2946 - lr: 0.0010 - 3s/epoch - 10ms/step\n",
            "Epoch 10/200\n",
            "262/262 - 3s - loss: 1.3008 - val_loss: 1.2749 - lr: 1.0000e-04 - 3s/epoch - 10ms/step\n",
            "Epoch 11/200\n",
            "262/262 - 2s - loss: 1.2983 - val_loss: 1.2757 - lr: 1.0000e-04 - 2s/epoch - 9ms/step\n",
            "Epoch 12/200\n",
            "262/262 - 3s - loss: 1.2977 - val_loss: 1.2732 - lr: 1.0000e-04 - 3s/epoch - 12ms/step\n",
            "Epoch 13/200\n",
            "262/262 - 3s - loss: 1.2979 - val_loss: 1.2712 - lr: 1.0000e-04 - 3s/epoch - 10ms/step\n",
            "Epoch 14/200\n",
            "262/262 - 2s - loss: 1.2951 - val_loss: 1.2712 - lr: 1.0000e-04 - 2s/epoch - 9ms/step\n",
            "Epoch 15/200\n",
            "262/262 - 2s - loss: 1.2936 - val_loss: 1.2710 - lr: 1.0000e-04 - 2s/epoch - 8ms/step\n",
            "Epoch 16/200\n",
            "262/262 - 2s - loss: 1.2939 - val_loss: 1.2703 - lr: 1.0000e-04 - 2s/epoch - 8ms/step\n",
            "Epoch 17/200\n",
            "262/262 - 3s - loss: 1.2945 - val_loss: 1.2738 - lr: 1.0000e-04 - 3s/epoch - 10ms/step\n",
            "Epoch 18/200\n",
            "262/262 - 2s - loss: 1.2917 - val_loss: 1.2694 - lr: 1.0000e-04 - 2s/epoch - 9ms/step\n",
            "Epoch 19/200\n",
            "262/262 - 2s - loss: 1.2922 - val_loss: 1.2695 - lr: 1.0000e-04 - 2s/epoch - 9ms/step\n",
            "Epoch 20/200\n",
            "\n",
            "Epoch 20: ReduceLROnPlateau reducing learning rate to 1.0000000474974514e-05.\n",
            "262/262 - 3s - loss: 1.2934 - val_loss: 1.2704 - lr: 1.0000e-04 - 3s/epoch - 10ms/step\n",
            "Epoch 21/200\n",
            "262/262 - 3s - loss: 1.2905 - val_loss: 1.2687 - lr: 1.0000e-05 - 3s/epoch - 10ms/step\n",
            "Epoch 22/200\n",
            "262/262 - 3s - loss: 1.2900 - val_loss: 1.2685 - lr: 1.0000e-05 - 3s/epoch - 13ms/step\n",
            "Epoch 23/200\n",
            "262/262 - 2s - loss: 1.2905 - val_loss: 1.2686 - lr: 1.0000e-05 - 2s/epoch - 8ms/step\n",
            "Epoch 24/200\n",
            "\n",
            "Epoch 24: ReduceLROnPlateau reducing learning rate to 1.0000000656873453e-06.\n",
            "262/262 - 2s - loss: 1.2913 - val_loss: 1.2686 - lr: 1.0000e-05 - 2s/epoch - 9ms/step\n",
            "Epoch 25/200\n",
            "262/262 - 2s - loss: 1.2909 - val_loss: 1.2685 - lr: 1.0000e-06 - 2s/epoch - 7ms/step\n",
            "Epoch 26/200\n",
            "\n",
            "Epoch 26: ReduceLROnPlateau reducing learning rate to 1.0000001111620805e-07.\n",
            "262/262 - 2s - loss: 1.2892 - val_loss: 1.2685 - lr: 1.0000e-06 - 2s/epoch - 9ms/step\n",
            "Epoch 27/200\n",
            "262/262 - 2s - loss: 1.2918 - val_loss: 1.2685 - lr: 1.0000e-07 - 2s/epoch - 9ms/step\n",
            "Epoch 28/200\n",
            "\n",
            "Epoch 28: ReduceLROnPlateau reducing learning rate to 1.000000082740371e-08.\n",
            "262/262 - 2s - loss: 1.2908 - val_loss: 1.2685 - lr: 1.0000e-07 - 2s/epoch - 8ms/step\n",
            "Epoch 29/200\n",
            "262/262 - 2s - loss: 1.2902 - val_loss: 1.2685 - lr: 1.0000e-08 - 2s/epoch - 8ms/step\n",
            "Epoch 30/200\n",
            "\n",
            "Epoch 30: ReduceLROnPlateau reducing learning rate to 1.000000082740371e-09.\n",
            "262/262 - 2s - loss: 1.2898 - val_loss: 1.2685 - lr: 1.0000e-08 - 2s/epoch - 7ms/step\n",
            "Epoch 31/200\n",
            "262/262 - 2s - loss: 1.2895 - val_loss: 1.2685 - lr: 1.0000e-09 - 2s/epoch - 8ms/step\n",
            "Epoch 32/200\n",
            "\n",
            "Epoch 32: ReduceLROnPlateau reducing learning rate to 1.000000082740371e-10.\n",
            "262/262 - 2s - loss: 1.2909 - val_loss: 1.2685 - lr: 1.0000e-09 - 2s/epoch - 7ms/step\n",
            "Epoch 33/200\n",
            "262/262 - 3s - loss: 1.2903 - val_loss: 1.2685 - lr: 1.0000e-10 - 3s/epoch - 10ms/step\n",
            "Epoch 34/200\n",
            "\n",
            "Epoch 34: ReduceLROnPlateau reducing learning rate to 1.000000082740371e-11.\n",
            "262/262 - 2s - loss: 1.2905 - val_loss: 1.2685 - lr: 1.0000e-10 - 2s/epoch - 8ms/step\n",
            "Epoch 35/200\n",
            "262/262 - 2s - loss: 1.2888 - val_loss: 1.2685 - lr: 1.0000e-11 - 2s/epoch - 8ms/step\n",
            "Epoch 36/200\n",
            "\n",
            "Epoch 36: ReduceLROnPlateau reducing learning rate to 1.000000082740371e-12.\n",
            "262/262 - 2s - loss: 1.2904 - val_loss: 1.2685 - lr: 1.0000e-11 - 2s/epoch - 8ms/step\n",
            "Epoch 37/200\n",
            "262/262 - 2s - loss: 1.2887 - val_loss: 1.2685 - lr: 1.0000e-12 - 2s/epoch - 8ms/step\n",
            "Epoch 38/200\n",
            "\n",
            "Epoch 38: ReduceLROnPlateau reducing learning rate to 1.0000001044244145e-13.\n",
            "262/262 - 2s - loss: 1.2883 - val_loss: 1.2685 - lr: 1.0000e-12 - 2s/epoch - 8ms/step\n",
            "Epoch 39/200\n",
            "262/262 - 2s - loss: 1.2902 - val_loss: 1.2685 - lr: 1.0000e-13 - 2s/epoch - 9ms/step\n",
            "Epoch 40/200\n",
            "\n",
            "Epoch 40: ReduceLROnPlateau reducing learning rate to 1.0000001179769417e-14.\n",
            "262/262 - 2s - loss: 1.2907 - val_loss: 1.2685 - lr: 1.0000e-13 - 2s/epoch - 9ms/step\n",
            "Epoch 40: early stopping\n"
          ]
        }
      ],
      "source": [
        "# train \n",
        "history = model.fit(X_train, y_train, epochs=n_epochs, batch_size=batch_size, verbose = 2,\n",
        "                validation_data=(X_val, y_val),\n",
        "                callbacks = [\n",
        "                EarlyStopping(monitor='val_loss', patience=10, verbose=1),\n",
        "                ReduceLROnPlateau(monitor='val_loss', factor=0.1, patience=2, verbose=1),\n",
        "                TerminateOnNaN()])"
      ]
    },
    {
      "cell_type": "code",
      "execution_count": 16,
      "metadata": {
        "id": "noafPBxkvwPd",
        "outputId": "bcc8fb1a-7eeb-449b-c4e4-5a0e6e8db8d2",
        "colab": {
          "base_uri": "https://localhost:8080/",
          "height": 472
        }
      },
      "outputs": [
        {
          "output_type": "display_data",
          "data": {
            "text/plain": [
              "<Figure size 640x480 with 1 Axes>"
            ],
            "image/png": "[encoded data removed]"
          },
          "metadata": {}
        }
      ],
      "source": [
        "# plot training history\n",
        "plt.plot(history.history['loss'])\n",
        "plt.plot(history.history['val_loss'])\n",
        "plt.yscale('log')\n",
        "plt.title('Training History')\n",
        "plt.ylabel('loss')\n",
        "plt.xlabel('epoch')\n",
        "plt.legend(['training', 'validation'], loc='upper right')\n",
        "plt.show()"
      ]
    },
    {
      "cell_type": "markdown",
      "metadata": {
        "id": "oPmIOQtrvwPd"
      },
      "source": [
        "# Building the ROC Curves"
      ]
    },
    {
      "cell_type": "code",
      "execution_count": 17,
      "metadata": {
        "id": "f9qR2H-avwPd"
      },
      "outputs": [],
      "source": [
        "labels = ['gluon', 'quark', 'W', 'Z', 'top']"
      ]
    },
    {
      "cell_type": "code",
      "execution_count": 18,
      "metadata": {
        "id": "z42f21iavwPe",
        "outputId": "799ea78a-892c-42ed-e56f-e5e3c1f1bb67",
        "colab": {
          "base_uri": "https://localhost:8080/",
          "height": 475
        }
      },
      "outputs": [
        {
          "output_type": "stream",
          "name": "stdout",
          "text": [
            "516/516 [==============================] - 3s 5ms/step\n"
          ]
        },
        {
          "output_type": "display_data",
          "data": {
            "text/plain": [
              "<Figure size 640x480 with 1 Axes>"
            ],
            "image/png": "[encoded data removed]"
          },
          "metadata": {}
        }
      ],
      "source": [
        "import pandas as pd\n",
        "from sklearn.metrics import roc_curve, auc\n",
        "predict_val = model.predict(X_val)\n",
        "df = pd.DataFrame()\n",
        "fpr = {}\n",
        "tpr = {}\n",
        "auc1 = {}\n",
        "\n",
        "plt.figure()\n",
        "for i, label in enumerate(labels):\n",
        "        df[label] = y_val[:,i]\n",
        "        df[label + '_pred'] = predict_val[:,i]\n",
        "\n",
        "        fpr[label], tpr[label], threshold = roc_curve(df[label],df[label+'_pred'])\n",
        "\n",
        "        auc1[label] = auc(fpr[label], tpr[label])\n",
        "\n",
        "        plt.plot(tpr[label],fpr[label],label='%s tagger, auc = %.1f%%'%(label,auc1[label]*100.))\n",
        "plt.semilogy()\n",
        "plt.xlabel(\"sig. efficiency\")\n",
        "plt.ylabel(\"bkg. mistag rate\")\n",
        "plt.ylim(0.000001,1)\n",
        "plt.grid(True)\n",
        "plt.legend(loc='lower right')\n",
        "plt.show()"
      ]
    },
    {
      "cell_type": "code",
      "execution_count": null,
      "metadata": {
        "id": "tQuq27CNvwPe"
      },
      "outputs": [],
      "source": []
    }
  ],
  "metadata": {
    "kernelspec": {
      "display_name": "Python 3 (ipykernel)",
      "language": "python",
      "name": "python3"
    },
    "language_info": {
      "codemirror_mode": {
        "name": "ipython",
        "version": 3
      },
      "file_extension": ".py",
      "mimetype": "text/x-python",
      "name": "python",
      "nbconvert_exporter": "python",
      "pygments_lexer": "ipython3",
      "version": "3.9.12"
    },
    "colab": {
      "provenance": [],
      "gpuType": "T4"
    },
    "accelerator": "GPU",
    "gpuClass": "standard"
  },
  "nbformat": 4,
  "nbformat_minor": 0
}