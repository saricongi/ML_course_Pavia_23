{
  "cells": [
    {
      "cell_type": "markdown",
      "metadata": {
        "id": "Rf258xT0XIwV"
      },
      "source": [
        "# Training a Jet Tagging with **DNN** \n",
        "\n",
        "---\n",
        "In this notebook, we perform a Jet identification task using a multiclass classifier based on a \n",
        "Dense Neural Network (DNN), also called multi-layer perceptron (MLP). The problem consists on identifying a given jet as a quark, a gluon, a W, a Z, or a top,\n",
        "based on set of physics-motivated high-level features.\n",
        "\n",
        "For details on the physics problem, see https://arxiv.org/pdf/1804.06913.pdf \n",
        "\n",
        "For details on the dataset, see Notebook1\n",
        "\n",
        "---"
      ]
    },
    {
      "cell_type": "code",
      "execution_count": 3,
      "metadata": {
        "id": "4OMAZgtyXIwY"
      },
      "outputs": [],
      "source": [
        "import os\n",
        "import h5py\n",
        "import glob\n",
        "import numpy as np\n",
        "import matplotlib.pyplot as plt\n",
        "%matplotlib inline"
      ]
    },
    {
      "cell_type": "markdown",
      "metadata": {
        "id": "2lbB-J3hXIwb"
      },
      "source": [
        "# Preparation of the training and validation samples\n",
        "\n",
        "---\n",
        "In order to import the dataset, we now\n",
        "- clone the dataset repository (to import the data in Colab)\n",
        "- load the h5 files in the data/ repository\n",
        "- extract the data we need: a target and jetImage \n",
        "\n",
        "To type shell commands, we start the command line with !\n",
        "\n",
        "**nb, if you are running locally and you have already downloaded the datasets you can skip the cell below and, if needed, change the paths later to point to the folder with your previous download of the datasets.**"
      ]
    },
    {
      "cell_type": "code",
      "execution_count": null,
      "metadata": {
        "id": "jWjxFaRPXIwb"
      },
      "outputs": [],
      "source": [
        "! curl https://cernbox.cern.ch/s/6Ec5pGFEpFWeH6S/download -o Data-MLtutorial.tar.gz\n",
        "! tar -xvzf Data-MLtutorial.tar.gz \n",
        "! ls Data-MLtutorial/JetDataset/\n",
        "! rm Data-MLtutorial.tar.gz "
      ]
    },
    {
      "cell_type": "code",
      "execution_count": 24,
      "metadata": {
        "id": "cCGhrKdwXIwc",
        "colab": {
          "base_uri": "https://localhost:8080/"
        },
        "outputId": "415c9934-5e14-4a64-d838-cb9cfaf9b22a"
      },
      "outputs": [
        {
          "output_type": "stream",
          "name": "stdout",
          "text": [
            "Appending Data-MLtutorial/JetDataset/jetImage_7_100p_30000_40000.h5\n",
            "Appending Data-MLtutorial/JetDataset/jetImage_7_100p_60000_70000.h5\n",
            "Appending Data-MLtutorial/JetDataset/jetImage_7_100p_50000_60000.h5\n",
            "Appending Data-MLtutorial/JetDataset/jetImage_7_100p_10000_20000.h5\n",
            "Appending Data-MLtutorial/JetDataset/jetImage_7_100p_0_10000.h5\n",
            "(50000, 5) (50000, 16)\n"
          ]
        }
      ],
      "source": [
        "target = np.array([])\n",
        "features = np.array([])\n",
        "# we cannot load all data on Colab. So we just take a few files\n",
        "datafiles = ['Data-MLtutorial/JetDataset/jetImage_7_100p_30000_40000.h5',\n",
        "             'Data-MLtutorial/JetDataset/jetImage_7_100p_60000_70000.h5',\n",
        "             'Data-MLtutorial/JetDataset/jetImage_7_100p_50000_60000.h5',\n",
        "             'Data-MLtutorial/JetDataset/jetImage_7_100p_10000_20000.h5',\n",
        "             'Data-MLtutorial/JetDataset/jetImage_7_100p_0_10000.h5']\n",
        "# if you are running locallt, you can use the full dataset doing\n",
        "# for fileIN in glob.glob(\"tutorials/HiggsSchool/data/*h5\"):\n",
        "for fileIN in datafiles:\n",
        "    print(\"Appending %s\" %fileIN)\n",
        "    f = h5py.File(fileIN)\n",
        "    myFeatures = np.array(f.get(\"jets\")[:,[12, 34, 35, 36, 37, 38, 39, 40, 41, 42, 43, 44, 45, 46, 48, 52]])\n",
        "    mytarget = np.array(f.get('jets')[0:,-6:-1])\n",
        "    features = np.concatenate([features, myFeatures], axis=0) if features.size else myFeatures\n",
        "    target = np.concatenate([target, mytarget], axis=0) if target.size else mytarget\n",
        "    f.close()\n",
        "print(target.shape, features.shape)"
      ]
    },
    {
      "cell_type": "markdown",
      "metadata": {
        "id": "6a333RYPXIwe"
      },
      "source": [
        "The dataset consists of 50000 jets, each represented by 16 features\n",
        "\n",
        "---\n",
        "\n",
        "We now shuffle the data, splitting them into a training and a validation dataset with 2:1 ratio"
      ]
    },
    {
      "cell_type": "code",
      "source": [
        "#to normalize, it helps the training -> better fidelities \n",
        "\n",
        "from sklearn.preprocessing import StandardScaler\n",
        "scaler = StandardScaler()\n",
        "\n",
        "print(\"**features***\")\n",
        "print(features)\n",
        "features = scaler.fit_transform(features)\n",
        "print(\"*normalized\")\n",
        "print(features)\n",
        "\n",
        "print(\"***target***\")\n",
        "print(features)\n",
        "features = scaler.fit_transform(features)\n",
        "print(\"*normalized\")\n",
        "print(features)\n",
        "\n"
      ],
      "metadata": {
        "id": "jvJWxAT47kB_",
        "outputId": "8ae18410-0fe0-4b6f-c2a1-250200e6a164",
        "colab": {
          "base_uri": "https://localhost:8080/"
        }
      },
      "execution_count": 25,
      "outputs": [
        {
          "output_type": "stream",
          "name": "stdout",
          "text": [
            "**features***\n",
            "[[-3.48842168e+00  4.71864045e-01  5.85369915e-02 ...  1.55771986e-01\n",
            "   1.41861038e+02  8.50000000e+01]\n",
            " [-2.91022253e+00  4.37404245e-01  7.32840411e-03 ...  1.29486308e-01\n",
            "   1.53231373e+01  5.90000000e+01]\n",
            " [-3.25624990e+00  4.55661505e-01  8.96017477e-02 ...  2.16229722e-01\n",
            "   1.77074036e+02  9.40000000e+01]\n",
            " ...\n",
            " [-2.08796573e+00  2.08514526e-01  9.32495634e-04 ...  4.53819446e-02\n",
            "   1.07853937e+00  4.70000000e+01]\n",
            " [-2.93208098e+00  4.49276835e-01  8.91116913e-03 ...  3.11119467e-01\n",
            "   1.99459305e+01  3.70000000e+01]\n",
            " [-3.12481475e+00  4.54214156e-01  1.01920985e-01 ...  1.31547183e-01\n",
            "   1.74775879e+02  5.90000000e+01]]\n",
            "*normalized\n",
            "[[-1.07763948  0.69530045  0.71812688 ...  0.15023514  1.20121805\n",
            "   1.54371234]\n",
            " [-0.08395651  0.07853025 -1.04010337 ... -0.17653935 -1.07048266\n",
            "   0.33801241]\n",
            " [-0.67863312  0.40530331  1.78472521 ...  0.90182488  1.83338747\n",
            "   1.96107001]\n",
            " ...\n",
            " [ 1.3291597  -4.01819575 -1.25970482 ... -1.2220958  -1.32621208\n",
            "  -0.21846448]\n",
            " [-0.12152207  0.29102886 -0.98575965 ...  2.08146149 -0.98749091\n",
            "  -0.68219522]\n",
            " [-0.45275095  0.37939827  2.20770222 ... -0.15091926  1.79212928\n",
            "   0.33801241]]\n",
            "***target***\n",
            "[[-1.07763948  0.69530045  0.71812688 ...  0.15023514  1.20121805\n",
            "   1.54371234]\n",
            " [-0.08395651  0.07853025 -1.04010337 ... -0.17653935 -1.07048266\n",
            "   0.33801241]\n",
            " [-0.67863312  0.40530331  1.78472521 ...  0.90182488  1.83338747\n",
            "   1.96107001]\n",
            " ...\n",
            " [ 1.3291597  -4.01819575 -1.25970482 ... -1.2220958  -1.32621208\n",
            "  -0.21846448]\n",
            " [-0.12152207  0.29102886 -0.98575965 ...  2.08146149 -0.98749091\n",
            "  -0.68219522]\n",
            " [-0.45275095  0.37939827  2.20770222 ... -0.15091926  1.79212928\n",
            "   0.33801241]]\n",
            "*normalized\n",
            "[[-1.07763948  0.69530045  0.71812688 ...  0.15023514  1.20121805\n",
            "   1.54371234]\n",
            " [-0.08395651  0.07853025 -1.04010337 ... -0.17653935 -1.07048266\n",
            "   0.33801241]\n",
            " [-0.67863312  0.40530331  1.78472521 ...  0.90182488  1.83338747\n",
            "   1.96107001]\n",
            " ...\n",
            " [ 1.3291597  -4.01819575 -1.25970482 ... -1.2220958  -1.32621208\n",
            "  -0.21846448]\n",
            " [-0.12152207  0.29102886 -0.98575965 ...  2.08146149 -0.98749091\n",
            "  -0.68219522]\n",
            " [-0.45275095  0.37939827  2.20770222 ... -0.15091926  1.79212928\n",
            "   0.33801241]]\n"
          ]
        }
      ]
    },
    {
      "cell_type": "code",
      "execution_count": 26,
      "metadata": {
        "id": "ZBqFs1eBXIwf",
        "colab": {
          "base_uri": "https://localhost:8080/"
        },
        "outputId": "5d7edf52-21f3-4f13-a5c0-bb899770a17d"
      },
      "outputs": [
        {
          "output_type": "stream",
          "name": "stdout",
          "text": [
            "(33500, 16) (16500, 16) (33500, 5) (16500, 5)\n"
          ]
        }
      ],
      "source": [
        "#we want to split the data set to train and validate , X is the input while y is the target\n",
        "from sklearn.model_selection import train_test_split\n",
        "X_train, X_val, y_train, y_val = train_test_split(features, target, test_size=0.33)\n",
        "print(X_train.shape, X_val.shape, y_train.shape, y_val.shape)\n",
        "del features, target"
      ]
    },
    {
      "cell_type": "code",
      "source": [
        "print(\"X train\")\n",
        "print(X_train)\n",
        "print(\"y train\")\n",
        "print(y_train)\n",
        "\n",
        "plt.hist(X_val[:,0])"
      ],
      "metadata": {
        "id": "4BTMvjV2APNt",
        "outputId": "e3868dc9-9a78-4528-b683-ed2c79087baf",
        "colab": {
          "base_uri": "https://localhost:8080/",
          "height": 933
        }
      },
      "execution_count": 36,
      "outputs": [
        {
          "output_type": "stream",
          "name": "stdout",
          "text": [
            "X train\n",
            "[[ 0.84832212 -0.44015501  0.01839048 ... -0.85331078  0.24983611\n",
            "  -0.68219522]\n",
            " [-0.12091852  0.51677149  0.28940724 ... -0.98445558  0.25615583\n",
            "  -0.45032985]\n",
            " [ 1.01253483 -0.7498947  -1.19470992 ...  1.65063908 -1.25733957\n",
            "  -0.96043367]\n",
            " ...\n",
            " [-1.71316901  0.80031331  0.53035815 ...  0.28947982  0.5467603\n",
            "   2.47117383]\n",
            " [ 0.46479499  0.0807439   0.26905052 ... -1.46194481  0.28280538\n",
            "  -0.86768752]\n",
            " [-0.40856724  0.49608907  1.99631655 ...  0.04193397  1.74542003\n",
            "   0.33801241]]\n",
            "y train\n",
            "[[0. 0. 0. 1. 0.]\n",
            " [0. 0. 0. 1. 0.]\n",
            " [0. 1. 0. 0. 0.]\n",
            " ...\n",
            " [1. 0. 0. 0. 0.]\n",
            " [0. 0. 0. 1. 0.]\n",
            " [0. 0. 0. 0. 1.]]\n"
          ]
        },
        {
          "output_type": "execute_result",
          "data": {
            "text/plain": [
              "(array([  55.,  719., 2661., 4225., 4081., 2724., 1354.,  525.,  139.,\n",
              "          17.]),\n",
              " array([-2.8767892 , -2.198159  , -1.51952879, -0.84089858, -0.16226837,\n",
              "         0.51636184,  1.19499205,  1.87362226,  2.55225247,  3.23088268,\n",
              "         3.90951289]),\n",
              " <BarContainer object of 10 artists>)"
            ]
          },
          "metadata": {},
          "execution_count": 36
        },
        {
          "output_type": "display_data",
          "data": {
            "text/plain": [
              "<Figure size 640x480 with 1 Axes>"
            ],
            "image/png": "[encoded data removed]"
          },
          "metadata": {}
        }
      ]
    },
    {
      "cell_type": "markdown",
      "metadata": {
        "id": "GkNz5UAhXIwg"
      },
      "source": [
        "# DNN model building"
      ]
    },
    {
      "cell_type": "code",
      "execution_count": 37,
      "metadata": {
        "id": "tTSDOiEHXIwh"
      },
      "outputs": [],
      "source": [
        "# keras imports -> TENSORFLOW\n",
        "from tensorflow.keras.models import Model #full model\n",
        "from tensorflow.keras.layers import Dense, Input, Dropout, Flatten, Activation #peaches of the model \n",
        "from tensorflow.keras.utils import plot_model\n",
        "from tensorflow.keras import backend as K\n",
        "from tensorflow.keras import metrics\n",
        "from tensorflow.keras.callbacks import EarlyStopping, ReduceLROnPlateau, TerminateOnNaN"
      ]
    },
    {
      "cell_type": "code",
      "execution_count": 38,
      "metadata": {
        "id": "rAl0DZTxXIwi"
      },
      "outputs": [],
      "source": [
        "input_shape = X_train.shape[1]\n",
        "dropoutRate = 0.25 #drop out is a way to regularize the computation in a probabilistic way , with a rate = 0.25 "
      ]
    },
    {
      "cell_type": "code",
      "execution_count": 39,
      "metadata": {
        "id": "2l492G8BXIwj"
      },
      "outputs": [],
      "source": [
        "####\n",
        "inputArray = Input(shape=(input_shape,))\n",
        "#\n",
        "# Dense is building your layers, with a given strcture of the operation that u do (propagation, back ... ? )\n",
        "x = Dense(40, activation='relu')(inputArray) #line1 #40 = Number of neurons\n",
        "x = Dropout(dropoutRate)(x)\n",
        "#\n",
        "x = Dense(20)(x)\n",
        "x = Activation('relu')(x) #we use the Relu function in the intermediate layers\n",
        "x = Dropout(dropoutRate)(x)\n",
        "#\n",
        "x = Dense(10, activation='relu')(x) #same as line1 , just in a compact way\n",
        "x = Dropout(dropoutRate)(x)\n",
        "#\n",
        "x = Dense(5, activation='relu')(x) #finally 5 neurons, because is the number of classes\n",
        "#\n",
        "output = Dense(5, activation='softmax')(x) #at the end Softmax func to get a probability\n",
        "####\n",
        "model = Model(inputs=inputArray, outputs=output)"
      ]
    },
    {
      "cell_type": "code",
      "execution_count": 40,
      "metadata": {
        "id": "xu8rRUkhXIwj",
        "colab": {
          "base_uri": "https://localhost:8080/"
        },
        "outputId": "157d3d45-64e8-47e6-ac9a-6ad662708c09"
      },
      "outputs": [
        {
          "output_type": "stream",
          "name": "stdout",
          "text": [
            "Model: \"model\"\n",
            "_________________________________________________________________\n",
            " Layer (type)                Output Shape              Param #   \n",
            "=================================================================\n",
            " input_1 (InputLayer)        [(None, 16)]              0         \n",
            "                                                                 \n",
            " dense (Dense)               (None, 40)                680       \n",
            "                                                                 \n",
            " dropout (Dropout)           (None, 40)                0         \n",
            "                                                                 \n",
            " dense_1 (Dense)             (None, 20)                820       \n",
            "                                                                 \n",
            " activation (Activation)     (None, 20)                0         \n",
            "                                                                 \n",
            " dropout_1 (Dropout)         (None, 20)                0         \n",
            "                                                                 \n",
            " dense_2 (Dense)             (None, 10)                210       \n",
            "                                                                 \n",
            " dropout_2 (Dropout)         (None, 10)                0         \n",
            "                                                                 \n",
            " dense_3 (Dense)             (None, 5)                 55        \n",
            "                                                                 \n",
            " dense_4 (Dense)             (None, 5)                 30        \n",
            "                                                                 \n",
            "=================================================================\n",
            "Total params: 1,795\n",
            "Trainable params: 1,795\n",
            "Non-trainable params: 0\n",
            "_________________________________________________________________\n"
          ]
        }
      ],
      "source": [
        "model.compile(loss='categorical_crossentropy', optimizer='adam') #adam is the algorithm used for Gradient Descent\n",
        "model.summary()"
      ]
    },
    {
      "cell_type": "markdown",
      "metadata": {
        "id": "2HfKWoOtXIwk"
      },
      "source": [
        "We now train the model with these settings:\n",
        "\n",
        "- the **batch size** is a hyperparameter of gradient descent that controls the number of training samples to work through before the model internal parameters are updated\n",
        "    - batch size = 1 results in fast computation but noisy training that is slow to converge\n",
        "    - batch size = dataset size results in slow computation but faster convergence)\n",
        "\n",
        "- the **number of epochs** controls the number of complete passes through the full training dataset -- at each epoch gradients are computed for each of the mini batches and model internal parameters are updated.\n",
        "\n",
        "- the **callbacks** are algorithms used to optimize the training (full list [here](https://keras.io/api/callbacks/)):\n",
        "    - *EarlyStopping*: stop training when a monitored metric (`monitor`) has stopped improving in the last N epochs (`patience`)\n",
        "    - *ReduceLROnPlateau*: reduce learning rate when a metric (`monitor`) has stopped improving in the last N epochs (`patience`)\n",
        "    - *TerminateOnNaN*: terminates training when a NaN loss is encountered"
      ]
    },
    {
      "cell_type": "code",
      "execution_count": 41,
      "metadata": {
        "id": "KzO-lyLEXIwk",
        "colab": {
          "base_uri": "https://localhost:8080/"
        },
        "outputId": "85216b56-09ef-47d9-9eae-cb6430b67dc1"
      },
      "outputs": [
        {
          "output_type": "stream",
          "name": "stdout",
          "text": [
            "Epoch 1/50\n",
            "262/262 - 8s - loss: 1.4150 - val_loss: 1.1387 - lr: 0.0010 - 8s/epoch - 29ms/step\n",
            "Epoch 2/50\n",
            "262/262 - 1s - loss: 1.1802 - val_loss: 1.0265 - lr: 0.0010 - 1s/epoch - 5ms/step\n",
            "Epoch 3/50\n",
            "262/262 - 1s - loss: 1.1084 - val_loss: 0.9764 - lr: 0.0010 - 1s/epoch - 4ms/step\n",
            "Epoch 4/50\n",
            "262/262 - 1s - loss: 1.0709 - val_loss: 0.9372 - lr: 0.0010 - 1s/epoch - 4ms/step\n",
            "Epoch 5/50\n",
            "262/262 - 1s - loss: 1.0302 - val_loss: 0.8807 - lr: 0.0010 - 1s/epoch - 4ms/step\n",
            "Epoch 6/50\n",
            "262/262 - 1s - loss: 0.9853 - val_loss: 0.8390 - lr: 0.0010 - 1s/epoch - 5ms/step\n",
            "Epoch 7/50\n",
            "262/262 - 1s - loss: 0.9591 - val_loss: 0.8208 - lr: 0.0010 - 1s/epoch - 5ms/step\n",
            "Epoch 8/50\n",
            "262/262 - 2s - loss: 0.9351 - val_loss: 0.8068 - lr: 0.0010 - 2s/epoch - 7ms/step\n",
            "Epoch 9/50\n",
            "262/262 - 1s - loss: 0.9242 - val_loss: 0.7997 - lr: 0.0010 - 1s/epoch - 4ms/step\n",
            "Epoch 10/50\n",
            "262/262 - 1s - loss: 0.9060 - val_loss: 0.7889 - lr: 0.0010 - 1s/epoch - 4ms/step\n",
            "Epoch 11/50\n",
            "262/262 - 1s - loss: 0.9025 - val_loss: 0.7857 - lr: 0.0010 - 1s/epoch - 4ms/step\n",
            "Epoch 12/50\n",
            "262/262 - 1s - loss: 0.8943 - val_loss: 0.7917 - lr: 0.0010 - 1s/epoch - 5ms/step\n",
            "Epoch 13/50\n",
            "262/262 - 1s - loss: 0.8868 - val_loss: 0.7775 - lr: 0.0010 - 1s/epoch - 4ms/step\n",
            "Epoch 14/50\n",
            "262/262 - 1s - loss: 0.8787 - val_loss: 0.7669 - lr: 0.0010 - 1s/epoch - 4ms/step\n",
            "Epoch 15/50\n",
            "262/262 - 1s - loss: 0.8728 - val_loss: 0.7774 - lr: 0.0010 - 1s/epoch - 4ms/step\n",
            "Epoch 16/50\n",
            "\n",
            "Epoch 16: ReduceLROnPlateau reducing learning rate to 0.00010000000474974513.\n",
            "262/262 - 1s - loss: 0.8738 - val_loss: 0.7688 - lr: 0.0010 - 1s/epoch - 4ms/step\n",
            "Epoch 17/50\n",
            "262/262 - 1s - loss: 0.8657 - val_loss: 0.7643 - lr: 1.0000e-04 - 1s/epoch - 5ms/step\n",
            "Epoch 18/50\n",
            "262/262 - 1s - loss: 0.8626 - val_loss: 0.7621 - lr: 1.0000e-04 - 1s/epoch - 5ms/step\n",
            "Epoch 19/50\n",
            "262/262 - 1s - loss: 0.8610 - val_loss: 0.7617 - lr: 1.0000e-04 - 1s/epoch - 4ms/step\n",
            "Epoch 20/50\n",
            "262/262 - 1s - loss: 0.8627 - val_loss: 0.7617 - lr: 1.0000e-04 - 1s/epoch - 5ms/step\n",
            "Epoch 21/50\n",
            "262/262 - 1s - loss: 0.8536 - val_loss: 0.7614 - lr: 1.0000e-04 - 1s/epoch - 4ms/step\n",
            "Epoch 22/50\n",
            "262/262 - 1s - loss: 0.8623 - val_loss: 0.7601 - lr: 1.0000e-04 - 1s/epoch - 5ms/step\n",
            "Epoch 23/50\n",
            "262/262 - 1s - loss: 0.8562 - val_loss: 0.7589 - lr: 1.0000e-04 - 1s/epoch - 4ms/step\n",
            "Epoch 24/50\n",
            "262/262 - 1s - loss: 0.8580 - val_loss: 0.7593 - lr: 1.0000e-04 - 1s/epoch - 4ms/step\n",
            "Epoch 25/50\n",
            "\n",
            "Epoch 25: ReduceLROnPlateau reducing learning rate to 1.0000000474974514e-05.\n",
            "262/262 - 1s - loss: 0.8578 - val_loss: 0.7605 - lr: 1.0000e-04 - 1s/epoch - 4ms/step\n",
            "Epoch 26/50\n",
            "262/262 - 1s - loss: 0.8595 - val_loss: 0.7598 - lr: 1.0000e-05 - 1s/epoch - 4ms/step\n",
            "Epoch 27/50\n",
            "\n",
            "Epoch 27: ReduceLROnPlateau reducing learning rate to 1.0000000656873453e-06.\n",
            "262/262 - 1s - loss: 0.8540 - val_loss: 0.7596 - lr: 1.0000e-05 - 1s/epoch - 6ms/step\n",
            "Epoch 28/50\n",
            "262/262 - 1s - loss: 0.8565 - val_loss: 0.7596 - lr: 1.0000e-06 - 1s/epoch - 5ms/step\n",
            "Epoch 29/50\n",
            "\n",
            "Epoch 29: ReduceLROnPlateau reducing learning rate to 1.0000001111620805e-07.\n",
            "262/262 - 1s - loss: 0.8593 - val_loss: 0.7596 - lr: 1.0000e-06 - 1s/epoch - 4ms/step\n",
            "Epoch 30/50\n",
            "262/262 - 1s - loss: 0.8603 - val_loss: 0.7596 - lr: 1.0000e-07 - 1s/epoch - 5ms/step\n",
            "Epoch 31/50\n",
            "\n",
            "Epoch 31: ReduceLROnPlateau reducing learning rate to 1.000000082740371e-08.\n",
            "262/262 - 1s - loss: 0.8537 - val_loss: 0.7596 - lr: 1.0000e-07 - 1s/epoch - 5ms/step\n",
            "Epoch 32/50\n",
            "262/262 - 1s - loss: 0.8554 - val_loss: 0.7596 - lr: 1.0000e-08 - 1s/epoch - 4ms/step\n",
            "Epoch 33/50\n",
            "\n",
            "Epoch 33: ReduceLROnPlateau reducing learning rate to 1.000000082740371e-09.\n",
            "262/262 - 1s - loss: 0.8561 - val_loss: 0.7596 - lr: 1.0000e-08 - 1s/epoch - 4ms/step\n",
            "Epoch 33: early stopping\n"
          ]
        }
      ],
      "source": [
        "batch_size = 128\n",
        "n_epochs = 50\n",
        "\n",
        "# train \n",
        "history = model.fit(X_train, y_train, epochs=n_epochs, batch_size=batch_size, verbose = 2,\n",
        "                validation_data=(X_val, y_val),\n",
        "                callbacks = [\n",
        "                EarlyStopping(monitor='val_loss', patience=10, verbose=1),\n",
        "                ReduceLROnPlateau(monitor='val_loss', factor=0.1, patience=2, verbose=1),\n",
        "                TerminateOnNaN()])"
      ]
    },
    {
      "cell_type": "markdown",
      "source": [
        "You sample 128 data from your training data set, \n",
        "\n",
        "Epoch number = 262 = nb batches = data nb \\ 128 \n",
        "epoch = one optimization step , where the data are sampled from the training array to train the model.\n",
        "\n",
        "Per each epoch you sample 128 sub-samples.\n",
        "\n",
        "\n",
        "\n",
        "Good practice: always average of 1, so centered to 0 "
      ],
      "metadata": {
        "id": "Doj1FOPzobun"
      }
    },
    {
      "cell_type": "code",
      "execution_count": 42,
      "metadata": {
        "id": "044bCLqVXIwl",
        "colab": {
          "base_uri": "https://localhost:8080/",
          "height": 472
        },
        "outputId": "4dbbbd87-af80-4d89-98de-a74554a9aa13"
      },
      "outputs": [
        {
          "output_type": "display_data",
          "data": {
            "text/plain": [
              "<Figure size 640x480 with 1 Axes>"
            ],
            "image/png": "[encoded data removed]"
          },
          "metadata": {}
        }
      ],
      "source": [
        "# plot training history\n",
        "plt.plot(history.history['loss'])\n",
        "plt.plot(history.history['val_loss'])\n",
        "plt.yscale('log')\n",
        "plt.title('Training History')\n",
        "plt.ylabel('loss')\n",
        "plt.xlabel('epoch')\n",
        "plt.legend(['training', 'validation'], loc='upper right')\n",
        "plt.show()"
      ]
    },
    {
      "cell_type": "markdown",
      "metadata": {
        "id": "oESSmNLxXIwm"
      },
      "source": [
        "# Building the ROC Curves"
      ]
    },
    {
      "cell_type": "code",
      "execution_count": 43,
      "metadata": {
        "id": "a_AROD6SXIwm"
      },
      "outputs": [],
      "source": [
        "labels = ['gluon', 'quark', 'W', 'Z', 'top']"
      ]
    },
    {
      "cell_type": "code",
      "execution_count": 44,
      "metadata": {
        "id": "gjKT7EjUXIwn",
        "colab": {
          "base_uri": "https://localhost:8080/",
          "height": 475
        },
        "outputId": "a4946366-d371-45ef-bb1d-93147ea92304"
      },
      "outputs": [
        {
          "output_type": "stream",
          "name": "stdout",
          "text": [
            "516/516 [==============================] - 1s 2ms/step\n"
          ]
        },
        {
          "output_type": "display_data",
          "data": {
            "text/plain": [
              "<Figure size 640x480 with 1 Axes>"
            ],
            "image/png": "[encoded data removed]"
          },
          "metadata": {}
        }
      ],
      "source": [
        "import pandas as pd\n",
        "from sklearn.metrics import roc_curve, auc\n",
        "predict_val = model.predict(X_val) \n",
        "#of course it would be better to do the validation in a separate data set, because the optimization has seen already the validation data\n",
        "\n",
        "df = pd.DataFrame()\n",
        "fpr = {}\n",
        "tpr = {}\n",
        "auc1 = {}\n",
        "\n",
        "plt.figure()\n",
        "for i, label in enumerate(labels):\n",
        "        df[label] = y_val[:,i]\n",
        "        df[label + '_pred'] = predict_val[:,i]\n",
        "\n",
        "        fpr[label], tpr[label], threshold = roc_curve(df[label],df[label+'_pred'])\n",
        "\n",
        "        auc1[label] = auc(fpr[label], tpr[label])\n",
        "\n",
        "        plt.plot(tpr[label],fpr[label],label='%s tagger, auc = %.1f%%'%(label,auc1[label]*100.))\n",
        "plt.semilogy()\n",
        "plt.xlabel(\"sig. efficiency\")\n",
        "plt.ylabel(\"bkg. mistag rate\")\n",
        "plt.ylim(0.000001,1)\n",
        "plt.grid(True)\n",
        "plt.legend(loc='lower right')\n",
        "plt.show()"
      ]
    },
    {
      "cell_type": "code",
      "execution_count": null,
      "metadata": {
        "id": "lzbQ-d0RKVmV"
      },
      "outputs": [],
      "source": []
    }
  ],
  "metadata": {
    "colab": {
      "name": "Notebook2_JetID_DNN.ipynb",
      "provenance": [],
      "gpuType": "T4"
    },
    "kernelspec": {
      "display_name": "Python 3 (ipykernel)",
      "language": "python",
      "name": "python3"
    },
    "language_info": {
      "codemirror_mode": {
        "name": "ipython",
        "version": 3
      },
      "file_extension": ".py",
      "mimetype": "text/x-python",
      "name": "python",
      "nbconvert_exporter": "python",
      "pygments_lexer": "ipython3",
      "version": "3.9.12"
    },
    "accelerator": "GPU",
    "gpuClass": "standard"
  },
  "nbformat": 4,
  "nbformat_minor": 0
}